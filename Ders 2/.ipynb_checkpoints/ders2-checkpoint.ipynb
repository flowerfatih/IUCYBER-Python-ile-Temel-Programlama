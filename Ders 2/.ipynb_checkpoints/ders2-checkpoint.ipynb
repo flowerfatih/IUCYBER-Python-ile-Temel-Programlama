{
 "cells": [
  {
   "cell_type": "markdown",
   "metadata": {
    "id": "xYSzOptqgx5a"
   },
   "source": [
    "# Basic Syntax\n",
    "\n",
    "## 1. Print fonksiyonu\n",
    "\n",
    "## 2. Input fonksiyonu"
   ]
  },
  {
   "cell_type": "code",
   "execution_count": 12,
   "metadata": {
    "colab": {
     "base_uri": "https://localhost:8080/"
    },
    "id": "nLqvPc4FgxEk",
    "outputId": "6b91c2f6-2040-47fd-c56d-4b6c2c722645"
   },
   "outputs": [
    {
     "name": "stdout",
     "output_type": "stream",
     "text": [
      "Hello World!\n",
      "?\n",
      "Adınız: Fatih Salınmaz\n"
     ]
    }
   ],
   "source": [
    "print(\"Hello World!\")\n",
    "\n",
    "# if for while def class\n",
    "\n",
    "isim = \"Fatih\"\n",
    "\n",
    "yas = 23\n",
    "\n",
    "# Bu bir yorum satırıdır!!\n",
    "\n",
    "\n",
    "# if isim == \"Fatih\":\n",
    "#   print(\"Doğru isim\")\n",
    "\n",
    "# print(\"isim\")\n",
    "# print(isim)\n",
    "\n",
    "# print(isim, yas)\n",
    "\n",
    "# print(\"Merhaba \" + isim)\n",
    "\n",
    "# print(\"Merhaba\", isim)\n",
    "\n",
    "# print(\"deneme deneme dene\", \"nqwljh sadklş\", sep=\"-\", end=\"***\")\n",
    "\n",
    "# print(\"yeni satır\")\n",
    "\n",
    "isim = input()\n",
    "\n",
    "isim = input(\"Adınız: \")\n",
    "\n",
    "\n",
    "# #yas =\n",
    "\n",
    "# print(isim, yas)"
   ]
  },
  {
   "cell_type": "markdown",
   "metadata": {
    "id": "Ve_7m0_eh_cX"
   },
   "source": [
    "# Değişkenler ve Veri Tipleri\n",
    "## 1. Değişken Nedir\n",
    "## 2. Değişken Adlandırması\n",
    "## 3. Veri Tipleri\n",
    "## 4. Tip Dönüşümü"
   ]
  },
  {
   "cell_type": "markdown",
   "metadata": {
    "id": "AL-xO2jDozg2"
   },
   "source": [
    "# Değişken Adlandırma"
   ]
  },
  {
   "cell_type": "code",
   "execution_count": 5,
   "metadata": {
    "id": "85wJieJLiL9Q"
   },
   "outputs": [],
   "source": [
    "#Geçerli değişken adları\n",
    "degisken = 5\n",
    "de_gisken = \"Fatih\"\n",
    "_de_gis_ken = \"İstanbul\"\n",
    "deGisKen = 1.58\n",
    "DEGISKEN = True\n",
    "degisken2 = 3+5j\n",
    "\n",
    "\n",
    "#Kuraldışı değişken adları\n",
    "# 2degisken = \"Murat\"\n",
    "# de-gis-ken = \"Murat\"\n",
    "# degis ken = \"Murat\""
   ]
  },
  {
   "cell_type": "markdown",
   "metadata": {
    "id": "uZRvrMnko5ac"
   },
   "source": [
    "# Veri Tipleri"
   ]
  },
  {
   "cell_type": "code",
   "execution_count": 18,
   "metadata": {
    "id": "Itp5yoIWpxvF"
   },
   "outputs": [
    {
     "name": "stdout",
     "output_type": "stream",
     "text": [
      "<class 'int'>\n",
      "<class 'float'>\n",
      "<class 'complex'>\n",
      "<class 'str'>\n",
      "<class 'bool'>\n"
     ]
    }
   ],
   "source": [
    "#int\n",
    "\n",
    "sayi = 421421\n",
    "print(type(sayi))\n",
    "#float\n",
    "\n",
    "x = 213.43\n",
    "print(type(x))\n",
    "\n",
    "#complex\n",
    "karmasik = 6+7j\n",
    "print(type(karmasik))\n",
    "\n",
    "#str\n",
    "uni = 'İUC'\n",
    "print(type(uni))\n",
    "\n",
    "#bool\n",
    "a = True\n",
    "print(type(a))\n",
    "\n",
    "#type function\n"
   ]
  },
  {
   "cell_type": "markdown",
   "metadata": {
    "id": "jyzY0fBFqARj"
   },
   "source": [
    "# Tip Dönüşümleri"
   ]
  },
  {
   "cell_type": "code",
   "execution_count": 29,
   "metadata": {
    "id": "DE339fw3qC6D"
   },
   "outputs": [
    {
     "name": "stdout",
     "output_type": "stream",
     "text": [
      "Yaşınız: 25\n",
      "<class 'int'>\n",
      "25\n",
      "<class 'float'>\n",
      "25.0\n",
      "25.0\n",
      "<class 'str'>\n",
      "False\n",
      "<class 'bool'>\n"
     ]
    }
   ],
   "source": [
    "#int()\n",
    "yas = int(input(\"Yaşınız: \"))\n",
    "print(type(yas))\n",
    "print(yas)\n",
    "#float()\n",
    "yas = float(yas)\n",
    "print(type(yas))\n",
    "print(yas)\n",
    "#str()\n",
    "yas = str(yas)\n",
    "print(yas)\n",
    "print(type(yas))\n",
    "#bool()\n",
    "yas = bool(yas)\n",
    "print(yas)\n",
    "print(type(yas))"
   ]
  },
  {
   "cell_type": "markdown",
   "metadata": {
    "id": "n1Cwvv8cqa9U"
   },
   "source": [
    "# Operatörler\n",
    "## 1. Aritmetik Operatörler\n",
    "## 2. Atama Operatörleri\n",
    "## 3. Karşılaştırma Operatörleri\n",
    "## 4. Mantıksal Operatörler"
   ]
  },
  {
   "cell_type": "markdown",
   "metadata": {
    "id": "IrXrIi_Sq29u"
   },
   "source": [
    "# Aritmetik Operatörler\n",
    "## 1. Toplama\n",
    "## 2. Çıkarma\n",
    "## 3. Çarpma\n",
    "## 4. Bölme\n",
    "## 5. Tam Bölme\n",
    "## 6. Mod\n",
    "## 7. Üstel"
   ]
  },
  {
   "cell_type": "code",
   "execution_count": 35,
   "metadata": {
    "id": "SERDJ_kOq5pc"
   },
   "outputs": [
    {
     "name": "stdout",
     "output_type": "stream",
     "text": [
      "4.333333333333333\n",
      "4\n",
      "243\n",
      "Fatih Salınmaz\n"
     ]
    }
   ],
   "source": [
    "# int-int, int-float, int-str, float-float, float-str, str-str\n",
    "\n",
    "x = 13 / 3\n",
    "\n",
    "print(x)\n",
    "\n",
    "\n",
    "x = 13 // 3 \n",
    "\n",
    "print(x)\n",
    "\n",
    "x = 13 % 3\n",
    "\n",
    "# 13 mod 3 ----> 13 / 3 = 4 --- > 4*3 = 12 ----> 13-12 = 1\n",
    "\n",
    "x = 3**5\n",
    "print(x)\n",
    "\n",
    "print(\"Fatih\" + \" Salınmaz\")"
   ]
  },
  {
   "cell_type": "markdown",
   "metadata": {
    "id": "YYoyg-9hsBPN"
   },
   "source": [
    "# Atama Operatörleri"
   ]
  },
  {
   "cell_type": "code",
   "execution_count": 37,
   "metadata": {
    "id": "LXeXvtuKsPMs"
   },
   "outputs": [
    {
     "name": "stdout",
     "output_type": "stream",
     "text": [
      "5\n",
      "10\n",
      "30\n",
      "24\n",
      "6.0\n"
     ]
    }
   ],
   "source": [
    "# =, +=, -=, *=, ...\n",
    "\n",
    "x = 5\n",
    "print(x)\n",
    "x += 5 # x = x +5\n",
    "print(x)\n",
    "x*=3\n",
    "print(x)\n",
    "x-=6\n",
    "print(x)\n",
    "x/=4\n",
    "print(x)"
   ]
  },
  {
   "cell_type": "markdown",
   "metadata": {
    "id": "Q_s1jh5qsXJE"
   },
   "source": [
    "#Karşılaştırma Operatörleri\n",
    "## 1. ==\n",
    "## 2. !=\n",
    "## 3. >\n",
    "## 4. <\n",
    "## 5. >=\n",
    "## 6. <="
   ]
  },
  {
   "cell_type": "code",
   "execution_count": null,
   "metadata": {
    "id": "isq-Lkc5tI0W"
   },
   "outputs": [],
   "source": []
  },
  {
   "cell_type": "markdown",
   "metadata": {
    "id": "lNqz-ELztJK8"
   },
   "source": [
    "#Mantıksal Operatörler\n",
    "## 1. and\n",
    "## 2. or\n",
    "## 3. not"
   ]
  },
  {
   "cell_type": "code",
   "execution_count": 42,
   "metadata": {
    "id": "DcXzH2fptUrt"
   },
   "outputs": [
    {
     "name": "stdout",
     "output_type": "stream",
     "text": [
      "True\n"
     ]
    }
   ],
   "source": [
    "x = not 5 == 4 \n",
    "print(x)\n"
   ]
  },
  {
   "cell_type": "markdown",
   "metadata": {
    "id": "i3n1dJaKuGc0"
   },
   "source": [
    "# Bahşiş Hesaplayan Program\n",
    "\n",
    "### Değişkenler: toplam ücret, ödeyecek kişi sayısı, bahşiş yüzdesi\n",
    "### Formül: (toplam_ücret*(1+bahşiş_yüzdesi/100))/ ödeyecek_kişi_sayısı"
   ]
  },
  {
   "cell_type": "code",
   "execution_count": 44,
   "metadata": {
    "id": "c0J_mZ5iuHw1"
   },
   "outputs": [
    {
     "name": "stdout",
     "output_type": "stream",
     "text": [
      "Toplam ücret: 1300\n",
      "Kişi sayısı: 4\n",
      "Vermek istediğiniz bahşiş oranını seçin(18, 20, 22, 25): 22\n",
      "Toplam Ödenecek tutar:  1586.0\n",
      "Kişi Başı Ödenecek tutar:  396.5\n"
     ]
    }
   ],
   "source": [
    "ucret = float(input(\"Toplam ücret: \"))\n",
    "kisi_sayisi = int(input(\"Kişi sayısı: \"))\n",
    "bahsis_yuzdesi = int(input(\"Vermek istediğiniz bahşiş oranını seçin(18, 20, 22, 25): \"))\n",
    "\n",
    "toplam_sonuc = (ucret*(1+bahsis_yuzdesi/100))\n",
    "kisi_basi_sonuc = (ucret*(1+bahsis_yuzdesi/100))/kisi_sayisi\n",
    "print(\"Toplam Ödenecek tutar: \", toplam_sonuc)\n",
    "print(\"Kişi Başı Ödenecek tutar: \", kisi_basi_sonuc)"
   ]
  },
  {
   "cell_type": "markdown",
   "metadata": {
    "id": "RvOVOry1uRq0"
   },
   "source": [
    "# If...else\n",
    "\n",
    "### Harf Notu Hesaplayan Program\n",
    "### Email/Parola Kontrolü Yapan Program"
   ]
  },
  {
   "cell_type": "markdown",
   "metadata": {
    "id": "DDiEUIJPvb3N"
   },
   "source": [
    "# Harf Notu Hesaplayan Program"
   ]
  },
  {
   "cell_type": "code",
   "execution_count": 52,
   "metadata": {
    "id": "JafuYN-auqAx"
   },
   "outputs": [
    {
     "name": "stdout",
     "output_type": "stream",
     "text": [
      "Notunuzu girin: 55\n",
      "Harf notunuz:  DC\n"
     ]
    }
   ],
   "source": [
    "_not = float(input(\"Notunuzu girin: \"))\n",
    "\n",
    "\"\"\"\n",
    "0-35 FF\n",
    "35-45 DD\n",
    "45-55 DC\n",
    "55-65 CC\n",
    "65-75 CB\n",
    "75-85 BB\n",
    "85-95 BA\n",
    "95-100 AA\n",
    "\"\"\"\n",
    "\n",
    "\n",
    "if _not>100 or _not<0:\n",
    "    print(\"Notunuzu yanlış girdiniz\")\n",
    "else:\n",
    "    harf_not = \"\"\n",
    "    if _not <= 35:\n",
    "        harf_not = \"FF\"\n",
    "    elif _not <= 45:\n",
    "        harf_not = \"DD\"\n",
    "    elif _not <= 55:\n",
    "        harf_not = \"DC\"\n",
    "    elif _not <= 65:\n",
    "        harf_not = \"CC\"\n",
    "    elif _not <= 75:\n",
    "        harf_not = \"CB\"\n",
    "    elif _not <= 85:\n",
    "        harf_not = \"BB\"\n",
    "    elif _not <= 95:\n",
    "        harf_not = \"BA\"\n",
    "    else:\n",
    "        harf_not = \"AA\"\n",
    "\n",
    "    print(\"Harf notunuz: \", harf_not)"
   ]
  },
  {
   "cell_type": "markdown",
   "metadata": {
    "id": "L73PXYxgvgP8"
   },
   "source": [
    "# Email/Parola Kontrolü Yapan Program"
   ]
  },
  {
   "cell_type": "code",
   "execution_count": 55,
   "metadata": {
    "id": "orgO4eMxx5de"
   },
   "outputs": [
    {
     "name": "stdout",
     "output_type": "stream",
     "text": [
      "emailinizi giriniz: fatihsalinmaz21@gmail.com\n",
      "parola: 214e2\n",
      "Parola yanlış\n"
     ]
    }
   ],
   "source": [
    "email = \"fatihsalinmaz21@gmail.com\"\n",
    "parola = \"qwerty\"\n",
    "\n",
    "if input(\"emailinizi giriniz: \") == email:\n",
    "    if input(\"parola: \") == parola:\n",
    "        print(\"Başarılı giriş\")\n",
    "    else:\n",
    "        print(\"Parola yanlış\")\n",
    "else:\n",
    "    print(\"E-mail bulunamadı\")"
   ]
  },
  {
   "cell_type": "markdown",
   "metadata": {
    "id": "vX0ACGpZvpR8"
   },
   "source": [
    "#While Döngüsü\n",
    "\n",
    "## Hesap Makinesi Programı"
   ]
  },
  {
   "cell_type": "code",
   "execution_count": 60,
   "metadata": {
    "colab": {
     "base_uri": "https://localhost:8080/"
    },
    "id": "Xbo5MWIWvwjb",
    "outputId": "1fa14678-1764-48ab-a266-34884af3c0ce"
   },
   "outputs": [
    {
     "name": "stdout",
     "output_type": "stream",
     "text": [
      "1\n",
      "2\n",
      "3\n",
      "4\n",
      "5\n",
      "Artık i, 6'dan küçük değil!\n"
     ]
    }
   ],
   "source": [
    "# i = 1\n",
    "# while i < 6:\n",
    "#   print(i)\n",
    "#   i += 1\n",
    "\n",
    "# i = 1\n",
    "# while i < 6:\n",
    "#   print(i)\n",
    "#   if i == 3:\n",
    "#     break\n",
    "#   i += 1\n",
    "\n",
    "# i = 0\n",
    "# while i < 6:\n",
    "#   i += 1\n",
    "#   if i == 3:\n",
    "#     continue\n",
    "#   print(i)\n",
    "\n",
    "i = 1\n",
    "while i < 6:\n",
    "  print(i)\n",
    "  i += 1\n",
    "else:\n",
    "  print(\"Artık i, 6'dan küçük değil!\")\n",
    "\n"
   ]
  },
  {
   "cell_type": "markdown",
   "metadata": {
    "id": "gXYNiP1NwDD0"
   },
   "source": [
    "#Hesap Makinesi Programı"
   ]
  },
  {
   "cell_type": "code",
   "execution_count": 67,
   "metadata": {
    "id": "67P8Et1pwG8s"
   },
   "outputs": [
    {
     "name": "stdout",
     "output_type": "stream",
     "text": [
      "Hesap makinesini kapatmak için 'q' tuşuna basınızsfdas\n",
      "(+ - * / // ** %) işlemlerinden birini seçiniz: %\n",
      "Sayı 1: 952\n",
      "Sayı 2: 7\n",
      "0.0\n",
      "Hesap makinesini kapatmak için 'q' tuşuna basınızsdf\n",
      "(+ - * / // ** %) işlemlerinden birini seçiniz: /\n",
      "Sayı 1: 952\n",
      "Sayı 2: 7\n",
      "136.0\n",
      "Hesap makinesini kapatmak için 'q' tuşuna basınızq\n"
     ]
    }
   ],
   "source": [
    "# islem seçimi yap\n",
    "# iki tane sayı tanımla\n",
    "# işlemi gerçekle ve sonuc degiskeninde sakla\n",
    "# sonucu yazdır\n",
    "# Bu işlemleri 'q' tuşu basılana kadar tekrar et\n",
    "\n",
    "while(input(\"Hesap makinesini kapatmak için 'q' tuşuna basınız\") != 'q'):\n",
    "\n",
    "    islem = input(\"(+ - * / // ** %) işlemlerinden birini seçiniz: \")\n",
    "    if islem == '+':\n",
    "        print(float(input(\"Sayı 1: \")) + float(input(\"Sayı 2: \")))\n",
    "    elif islem == '-':\n",
    "        print(float(input(\"Sayı 1: \")) - float(input(\"Sayı 2: \")))\n",
    "    elif islem == '*':\n",
    "        print(float(input(\"Sayı 1: \")) * float(input(\"Sayı 2: \")))\n",
    "    elif islem == '/':\n",
    "        print(float(input(\"Sayı 1: \")) / float(input(\"Sayı 2: \")))\n",
    "    elif islem == '//':\n",
    "        print(float(input(\"Sayı 1: \")) // float(input(\"Sayı 2: \")))\n",
    "    elif islem == '**':\n",
    "        print(float(input(\"Sayı 1: \")) ** float(input(\"Sayı 2: \")))\n",
    "    elif islem == '%':\n",
    "        print(float(input(\"Sayı 1: \")) % float(input(\"Sayı 2: \")))\n",
    "    else:\n",
    "        print(\"Hatalı giriş yaptınız!\")\n",
    "\n",
    "    \n"
   ]
  },
  {
   "cell_type": "code",
   "execution_count": null,
   "metadata": {},
   "outputs": [],
   "source": []
  }
 ],
 "metadata": {
  "colab": {
   "provenance": []
  },
  "kernelspec": {
   "display_name": "Python 3 (ipykernel)",
   "language": "python",
   "name": "python3"
  },
  "language_info": {
   "codemirror_mode": {
    "name": "ipython",
    "version": 3
   },
   "file_extension": ".py",
   "mimetype": "text/x-python",
   "name": "python",
   "nbconvert_exporter": "python",
   "pygments_lexer": "ipython3",
   "version": "3.9.13"
  }
 },
 "nbformat": 4,
 "nbformat_minor": 1
}
