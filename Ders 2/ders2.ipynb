{
  "nbformat": 4,
  "nbformat_minor": 0,
  "metadata": {
    "colab": {
      "provenance": []
    },
    "kernelspec": {
      "name": "python3",
      "display_name": "Python 3"
    },
    "language_info": {
      "name": "python"
    }
  },
  "cells": [
    {
      "cell_type": "markdown",
      "source": [
        "# Basic Syntax\n",
        "\n",
        "## 1. Print fonksiyonu\n",
        "\n",
        "## 2. Input fonksiyonu"
      ],
      "metadata": {
        "id": "xYSzOptqgx5a"
      }
    },
    {
      "cell_type": "code",
      "execution_count": 4,
      "metadata": {
        "colab": {
          "base_uri": "https://localhost:8080/"
        },
        "id": "nLqvPc4FgxEk",
        "outputId": "6b91c2f6-2040-47fd-c56d-4b6c2c722645"
      },
      "outputs": [
        {
          "output_type": "stream",
          "name": "stdout",
          "text": [
            "Hello World!\n",
            "Doğru isim\n",
            "Fatih\n",
            "Fatih 23\n",
            "MerhabaFatih\n",
            "Merhaba Fatih Yaşı:  23\n"
          ]
        }
      ],
      "source": [
        "print(\"Hello World!\")\n",
        "\n",
        "\n",
        "isim = \"Fatih\"\n",
        "\n",
        "yas = 23\n",
        "\n",
        "# Bu bir yorum satırıdır!!\n",
        "\n",
        "# if isim == \"Fatih\":\n",
        "#   print(\"Doğru isim\")\n",
        "\n",
        "\n",
        "# print(isim)\n",
        "\n",
        "# print(isim, yas)\n",
        "\n",
        "# print(\"Merhaba\" + isim)\n",
        "\n",
        "# print(\"Merhaba\", isim)\n",
        "\n",
        "# print(sep=\"\", end=\"\\n\")\n",
        "\n",
        "isim = input()\n",
        "\n",
        "isim = input(\"Adınız: \")\n",
        "\n",
        "\n",
        "#yas =\n",
        "\n",
        "print(isim, yas)"
      ]
    },
    {
      "cell_type": "markdown",
      "source": [
        "# Değişkenler ve Veri Tipleri\n",
        "## 1. Değişken Nedir\n",
        "## 2. Değişken Adlandırması\n",
        "## 3. Veri Tipleri\n",
        "## 4. Tip Dönüşümü"
      ],
      "metadata": {
        "id": "Ve_7m0_eh_cX"
      }
    },
    {
      "cell_type": "markdown",
      "source": [
        "# Değişken Adlandırma"
      ],
      "metadata": {
        "id": "AL-xO2jDozg2"
      }
    },
    {
      "cell_type": "code",
      "source": [
        "#Geçerli değişken adları\n",
        "degisken = 5\n",
        "de_gisken = \"Fatih\"\n",
        "_de_gis_ken = \"İstanbul\"\n",
        "deGisKen = 1.58\n",
        "DEGISKEN = True\n",
        "degisken2 = 3+5j\n",
        "\n",
        "#Kuraldışı değişken adları\n",
        "# 2degisken = \"Murat\"\n",
        "# de-gis-ken = \"Murat\"\n",
        "# degis ken = \"Murat\""
      ],
      "metadata": {
        "id": "85wJieJLiL9Q"
      },
      "execution_count": 5,
      "outputs": []
    },
    {
      "cell_type": "markdown",
      "source": [
        "# Veri Tipleri"
      ],
      "metadata": {
        "id": "uZRvrMnko5ac"
      }
    },
    {
      "cell_type": "code",
      "source": [
        "#int\n",
        "#float\n",
        "#complex\n",
        "#str\n",
        "#bool\n",
        "#type function\n"
      ],
      "metadata": {
        "id": "Itp5yoIWpxvF"
      },
      "execution_count": null,
      "outputs": []
    },
    {
      "cell_type": "markdown",
      "source": [
        "# Tip Dönüşümleri"
      ],
      "metadata": {
        "id": "jyzY0fBFqARj"
      }
    },
    {
      "cell_type": "code",
      "source": [
        "#int()\n",
        "#float()\n",
        "#str()\n",
        "#bool()\n",
        "\n"
      ],
      "metadata": {
        "id": "DE339fw3qC6D"
      },
      "execution_count": null,
      "outputs": []
    },
    {
      "cell_type": "markdown",
      "source": [
        "# Operatörler\n",
        "## 1. Aritmetik Operatörler\n",
        "## 2. Atama Operatörleri\n",
        "## 3. Karşılaştırma Operatörleri\n",
        "## 4. Mantıksal Operatörler"
      ],
      "metadata": {
        "id": "n1Cwvv8cqa9U"
      }
    },
    {
      "cell_type": "markdown",
      "source": [
        "# Aritmetik Operatörler\n",
        "## 1. Toplama\n",
        "## 2. Çıkarma\n",
        "## 3. Çarpma\n",
        "## 4. Bölme\n",
        "## 5. Tam Bölme\n",
        "## 6. Mod\n",
        "## 7. Üstel"
      ],
      "metadata": {
        "id": "IrXrIi_Sq29u"
      }
    },
    {
      "cell_type": "code",
      "source": [
        "# int-int, int-float, int-str, float-float, float-str, str-str"
      ],
      "metadata": {
        "id": "SERDJ_kOq5pc"
      },
      "execution_count": null,
      "outputs": []
    },
    {
      "cell_type": "markdown",
      "source": [
        "# Atama Operatörleri"
      ],
      "metadata": {
        "id": "YYoyg-9hsBPN"
      }
    },
    {
      "cell_type": "code",
      "source": [
        "# =, +=, -=, *=, ..."
      ],
      "metadata": {
        "id": "LXeXvtuKsPMs"
      },
      "execution_count": null,
      "outputs": []
    },
    {
      "cell_type": "markdown",
      "source": [
        "#Karşılaştırma Operatörleri\n",
        "## 1. ==\n",
        "## 2. !=\n",
        "## 3. >\n",
        "## 4. <\n",
        "## 5. >=\n",
        "## 6. <="
      ],
      "metadata": {
        "id": "Q_s1jh5qsXJE"
      }
    },
    {
      "cell_type": "code",
      "source": [],
      "metadata": {
        "id": "isq-Lkc5tI0W"
      },
      "execution_count": null,
      "outputs": []
    },
    {
      "cell_type": "markdown",
      "source": [
        "#Mantıksal Operatörler\n",
        "## 1. and\n",
        "## 2. or\n",
        "## 3. not"
      ],
      "metadata": {
        "id": "lNqz-ELztJK8"
      }
    },
    {
      "cell_type": "code",
      "source": [
        "\n"
      ],
      "metadata": {
        "id": "DcXzH2fptUrt"
      },
      "execution_count": null,
      "outputs": []
    },
    {
      "cell_type": "markdown",
      "source": [
        "# Bahşiş Hesaplayan Program\n",
        "\n",
        "### Değişkenler: toplam ücret, ödeyecek kişi sayısı, bahşiş yüzdesi\n",
        "### Formül: (toplam_ücret*(1+bahşiş_yüzdesi/100))/ ödeyecek_kişi_sayısı"
      ],
      "metadata": {
        "id": "i3n1dJaKuGc0"
      }
    },
    {
      "cell_type": "code",
      "source": [],
      "metadata": {
        "id": "c0J_mZ5iuHw1"
      },
      "execution_count": null,
      "outputs": []
    },
    {
      "cell_type": "markdown",
      "source": [
        "# If...else\n",
        "\n",
        "### Harf Notu Hesaplayan Program\n",
        "### Email/Parola Kontrolü Yapan Program"
      ],
      "metadata": {
        "id": "RvOVOry1uRq0"
      }
    },
    {
      "cell_type": "markdown",
      "source": [
        "# Harf Notu Hesaplayan Program"
      ],
      "metadata": {
        "id": "DDiEUIJPvb3N"
      }
    },
    {
      "cell_type": "code",
      "source": [],
      "metadata": {
        "id": "JafuYN-auqAx"
      },
      "execution_count": null,
      "outputs": []
    },
    {
      "cell_type": "markdown",
      "source": [
        "# Email/Parola Kontrolü Yapan Program"
      ],
      "metadata": {
        "id": "L73PXYxgvgP8"
      }
    },
    {
      "cell_type": "code",
      "source": [],
      "metadata": {
        "id": "orgO4eMxx5de"
      },
      "execution_count": null,
      "outputs": []
    },
    {
      "cell_type": "markdown",
      "source": [
        "#While Döngüsü\n",
        "\n",
        "## Hesap Makinesi Programı"
      ],
      "metadata": {
        "id": "vX0ACGpZvpR8"
      }
    },
    {
      "cell_type": "code",
      "source": [
        "i = 1\n",
        "while i < 6:\n",
        "  print(i)\n",
        "  i += 1\n",
        "\n",
        "i = 1\n",
        "while i < 6:\n",
        "  print(i)\n",
        "  if i == 3:\n",
        "    break\n",
        "  i += 1\n",
        "\n",
        "i = 0\n",
        "while i < 6:\n",
        "  i += 1\n",
        "  if i == 3:\n",
        "    continue\n",
        "  print(i)\n",
        "\n",
        "i = 1\n",
        "while i < 6:\n",
        "  print(i)\n",
        "  i += 1\n",
        "else:\n",
        "  print(\"Artık i, 6'dan küçük değil!\")\n",
        "\n"
      ],
      "metadata": {
        "colab": {
          "base_uri": "https://localhost:8080/"
        },
        "id": "Xbo5MWIWvwjb",
        "outputId": "1fa14678-1764-48ab-a266-34884af3c0ce"
      },
      "execution_count": 8,
      "outputs": [
        {
          "output_type": "stream",
          "name": "stdout",
          "text": [
            "1\n",
            "2\n",
            "3\n",
            "4\n",
            "5\n",
            "1\n",
            "2\n",
            "3\n",
            "1\n",
            "2\n",
            "4\n",
            "5\n",
            "6\n",
            "1\n",
            "2\n",
            "3\n",
            "4\n",
            "5\n",
            "Artık i, 6'dan küçük değil!\n"
          ]
        }
      ]
    },
    {
      "cell_type": "markdown",
      "source": [
        "#Hesap Makinesi Programı"
      ],
      "metadata": {
        "id": "gXYNiP1NwDD0"
      }
    },
    {
      "cell_type": "code",
      "source": [
        "# islem seçimi yap\n",
        "# iki tane sayı tanımla\n",
        "# işlemi gerçekle ve sonuc degiskeninde sakla\n",
        "# sonucu yazdır\n",
        "# Bu işlemleri 'q' tuşu basılana kadar tekrar et\n",
        "\n"
      ],
      "metadata": {
        "id": "67P8Et1pwG8s"
      },
      "execution_count": 7,
      "outputs": []
    }
  ]
}