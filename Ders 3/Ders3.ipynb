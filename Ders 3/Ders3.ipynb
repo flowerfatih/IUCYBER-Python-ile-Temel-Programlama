{
  "nbformat": 4,
  "nbformat_minor": 0,
  "metadata": {
    "colab": {
      "provenance": []
    },
    "kernelspec": {
      "name": "python3",
      "display_name": "Python 3"
    },
    "language_info": {
      "name": "python"
    }
  },
  "cells": [
    {
      "cell_type": "markdown",
      "source": [
        "# For Döngüsü\n"
      ],
      "metadata": {
        "id": "EOTjfk-oeL5l"
      }
    },
    {
      "cell_type": "code",
      "execution_count": null,
      "metadata": {
        "id": "rcqZwvpbL7Dg"
      },
      "outputs": [],
      "source": [
        "for i in \"İstanbul\":\n",
        "  print(i)\n",
        "\n",
        "\n",
        "for i in range(5):\n",
        "  print(i)\n",
        "\n",
        "for i in range(0,5,1):\n",
        "  print(i)\n",
        "\n",
        "for i in range(5,0,-1):\n",
        "  print(i)\n",
        "\n",
        "bolum = 0\n",
        "for i in range(15):\n",
        "  if i % 3 == 0:\n",
        "    bolum += 1\n",
        "  else:\n",
        "    continue\n",
        "  print(f\"{i} 3 ile tam bölünüyor\")\n",
        "print(bolum)\n",
        "\n",
        "\n",
        "for i in range(1,100):\n",
        "  if i % 3 == 0 and i % 19 == 0:\n",
        "    print(\"Respect!\")\n",
        "    break\n",
        "  elif i % 19 == 0:\n",
        "    print(\"19' un katı\")\n",
        "  elif i % 3 == 0:\n",
        "    print(\"3'ün katı\")\n",
        "  else:\n",
        "    continue\n",
        "    \n"
      ]
    },
    {
      "cell_type": "markdown",
      "source": [
        "# List\n",
        "\n",
        "## List Slicing\n",
        "\n",
        "## Change Items\n",
        "\n",
        "## Add Items\n",
        "\n",
        "## Remove Items\n",
        "\n",
        "## Copy Lists\n",
        "\n",
        "## Join Lists\n",
        "\n",
        "## List Methods\n"
      ],
      "metadata": {
        "id": "DqeabXzseQ78"
      }
    },
    {
      "cell_type": "code",
      "source": [
        "#Ordered\n",
        "\n",
        "#Changeable\n",
        "\n",
        "#Allow Duplicates\n",
        "\n",
        "bolumler = [\"bil_müh\", 0,\"elek_müh\", 1,\"endüstri\",2,\"makine\",3]"
      ],
      "metadata": {
        "id": "JoK5ix3reRNE"
      },
      "execution_count": 1,
      "outputs": []
    },
    {
      "cell_type": "markdown",
      "source": [
        "## List Slicing"
      ],
      "metadata": {
        "id": "asgT3wVKq72g"
      }
    },
    {
      "cell_type": "code",
      "source": [
        "bil = bolumler[0]\n",
        "\n",
        "bil_and_id = bolumler[0:2]\n",
        "\n",
        "print(bil, bil_and_id, sep=\"\\n\")\n",
        "\n",
        "makine = bolumler[6]\n",
        "\n",
        "makine_id = bolumler[-1]\n",
        "\n",
        "print(makine, makine_id, sep=\"\\n\")"
      ],
      "metadata": {
        "colab": {
          "base_uri": "https://localhost:8080/"
        },
        "id": "fCG5DfQEq-yP",
        "outputId": "f53c6490-649c-4c02-be81-bc3cbf2c9467"
      },
      "execution_count": 2,
      "outputs": [
        {
          "output_type": "stream",
          "name": "stdout",
          "text": [
            "bil_müh\n",
            "['bil_müh', 0]\n",
            "makine\n",
            "3\n"
          ]
        }
      ]
    },
    {
      "cell_type": "markdown",
      "source": [
        "## Change Items"
      ],
      "metadata": {
        "id": "BFU_doMsq_L5"
      }
    },
    {
      "cell_type": "code",
      "source": [
        "bolumler[0] = \"bilgisayar müh\"\n",
        "bolumler[1] = -1\n",
        "yazilim = bolumler[:4]\n",
        "print(yazilim)"
      ],
      "metadata": {
        "colab": {
          "base_uri": "https://localhost:8080/"
        },
        "id": "S-rR65W0q_T4",
        "outputId": "f1193fdb-ff0e-4575-98f2-1d116d5b10cc"
      },
      "execution_count": 16,
      "outputs": [
        {
          "output_type": "stream",
          "name": "stdout",
          "text": [
            "['bilgisayar müh', -1, 'elek_müh', 1]\n"
          ]
        }
      ]
    },
    {
      "cell_type": "markdown",
      "source": [
        "## Add Items\n",
        "\n",
        "### .append(item)\n",
        "\n",
        "### .insert(index, item)"
      ],
      "metadata": {
        "id": "wSIhr65Zq_im"
      }
    },
    {
      "cell_type": "code",
      "source": [
        "bolumler.append(\"çevre müh\")\n",
        "bolumler.append(4)\n",
        "\n",
        "bolumler.insert(2, \"inşaat müh\")\n",
        "bolumler.insert(3,5)\n",
        "\n",
        "print(bolumler)"
      ],
      "metadata": {
        "colab": {
          "base_uri": "https://localhost:8080/"
        },
        "id": "TJzXLmX_q_no",
        "outputId": "4fa4141d-33a2-4710-9e1d-4879f4e0f2af"
      },
      "execution_count": 8,
      "outputs": [
        {
          "output_type": "stream",
          "name": "stdout",
          "text": [
            "['bilgisayar müh', -1, 'inşaat müh', 5, 'elek_müh', 1, 'endüstri', 2, 'makine', 3, 'çevre müh', 4]\n"
          ]
        }
      ]
    },
    {
      "cell_type": "markdown",
      "source": [
        "## Remove Items\n",
        "\n",
        "### .remove(item)\n",
        "\n",
        "### .pop()\n",
        "\n",
        "### .pop(index)\n",
        "\n",
        "### .clear()\n",
        "\n",
        "### del list[index]\n",
        "\n",
        "### del list"
      ],
      "metadata": {
        "id": "iRluKtP1q_v2"
      }
    },
    {
      "cell_type": "code",
      "source": [
        "print(bolumler)\n",
        "\n",
        "bolumler.remove(\"bilgisayar müh\")\n",
        "bolumler.remove(-1)\n",
        "\n",
        "print(bolumler)\n",
        "\n",
        "bolumler.pop()\n",
        "bolumler.pop()\n",
        "\n",
        "print(bolumler)\n",
        "\n",
        "bolumler.pop(0)\n",
        "bolumler.pop(0)\n",
        "\n",
        "print(bolumler)\n",
        "\n",
        "bolumler.clear()\n",
        "print(bolumler)\n",
        "\n",
        "bolumler = [\"bil_müh\", 0,\"elek_müh\", 1,\"endüstri\",2,\"makine\",3]\n",
        "\n",
        "print(bolumler)\n",
        "\n",
        "\n"
      ],
      "metadata": {
        "colab": {
          "base_uri": "https://localhost:8080/"
        },
        "id": "VNVxs7utq_zv",
        "outputId": "878ece3d-beb4-4ab6-c6c2-7e045b1ccf25"
      },
      "execution_count": 17,
      "outputs": [
        {
          "output_type": "stream",
          "name": "stdout",
          "text": [
            "['bilgisayar müh', -1, 'elek_müh', 1, 'endüstri', 2, 'makine', 3]\n",
            "['elek_müh', 1, 'endüstri', 2, 'makine', 3]\n",
            "['elek_müh', 1, 'endüstri', 2]\n",
            "['endüstri', 2]\n",
            "[]\n",
            "['bil_müh', 0, 'elek_müh', 1, 'endüstri', 2, 'makine', 3]\n"
          ]
        }
      ]
    },
    {
      "cell_type": "code",
      "source": [
        "print(bolumler[3])\n",
        "del bolumler[3]\n",
        "\n",
        "print(bolumler[3])\n",
        "del bolumler\n",
        "print(bolumler)"
      ],
      "metadata": {
        "colab": {
          "base_uri": "https://localhost:8080/",
          "height": 242
        },
        "id": "udBwZ8igDW4b",
        "outputId": "7c226fcc-6aba-4dc7-80ef-f8726893b053"
      },
      "execution_count": 19,
      "outputs": [
        {
          "output_type": "stream",
          "name": "stdout",
          "text": [
            "endüstri\n",
            "2\n"
          ]
        },
        {
          "output_type": "error",
          "ename": "NameError",
          "evalue": "ignored",
          "traceback": [
            "\u001b[0;31m---------------------------------------------------------------------------\u001b[0m",
            "\u001b[0;31mNameError\u001b[0m                                 Traceback (most recent call last)",
            "\u001b[0;32m<ipython-input-19-4e3cbceeea01>\u001b[0m in \u001b[0;36m<module>\u001b[0;34m\u001b[0m\n\u001b[1;32m      4\u001b[0m \u001b[0mprint\u001b[0m\u001b[0;34m(\u001b[0m\u001b[0mbolumler\u001b[0m\u001b[0;34m[\u001b[0m\u001b[0;36m3\u001b[0m\u001b[0;34m]\u001b[0m\u001b[0;34m)\u001b[0m\u001b[0;34m\u001b[0m\u001b[0;34m\u001b[0m\u001b[0m\n\u001b[1;32m      5\u001b[0m \u001b[0;32mdel\u001b[0m \u001b[0mbolumler\u001b[0m\u001b[0;34m\u001b[0m\u001b[0;34m\u001b[0m\u001b[0m\n\u001b[0;32m----> 6\u001b[0;31m \u001b[0mprint\u001b[0m\u001b[0;34m(\u001b[0m\u001b[0mbolumler\u001b[0m\u001b[0;34m)\u001b[0m\u001b[0;34m\u001b[0m\u001b[0;34m\u001b[0m\u001b[0m\n\u001b[0m",
            "\u001b[0;31mNameError\u001b[0m: name 'bolumler' is not defined"
          ]
        }
      ]
    },
    {
      "cell_type": "markdown",
      "source": [
        "##Copy Lists"
      ],
      "metadata": {
        "id": "ZUAWTD7aq_73"
      }
    },
    {
      "cell_type": "code",
      "source": [
        "bolumler_copy = bolumler.copy()\n",
        "\n",
        "print(bolumler_copy)\n",
        "\n",
        "bolumler.pop()\n",
        "bolumler.pop()\n",
        "\n",
        "print(bolumler)\n",
        "print(bolumler_copy)"
      ],
      "metadata": {
        "colab": {
          "base_uri": "https://localhost:8080/"
        },
        "id": "PyPIiDFZq__L",
        "outputId": "6407e8d3-908f-4447-c2e6-4a21830600e6"
      },
      "execution_count": 4,
      "outputs": [
        {
          "output_type": "stream",
          "name": "stdout",
          "text": [
            "['bil_müh', 0, 'elek_müh', 1, 'endüstri', 2, 'makine', 3]\n",
            "['bil_müh', 0, 'elek_müh', 1, 'endüstri', 2]\n",
            "['bil_müh', 0, 'elek_müh', 1, 'endüstri', 2, 'makine', 3]\n"
          ]
        }
      ]
    },
    {
      "cell_type": "markdown",
      "source": [
        "## Join Lists"
      ],
      "metadata": {
        "id": "CH1nVmJzrOrI"
      }
    },
    {
      "cell_type": "code",
      "source": [
        "muh_bolumler = [\"bil_müh\", \"elek_müh\", \"endüstri müh\", \"makine müh\", \"inşaat müh\"]\n",
        "bolum_id = [0,1,2,3,4]\n",
        "\n",
        "müh_id1 = muh_bolumler + bolum_id\n",
        "\n",
        "print(muh_bolumler)\n",
        "print(bolum_id)\n",
        "print(müh_id1)\n",
        "\n",
        "muh_id2 = muh_bolumler.copy()\n",
        "for i in bolum_id:\n",
        "  muh_id2.append(i)\n",
        "\n",
        "print(muh_id2)\n",
        "\n",
        "muh_id3 = muh_bolumler.copy()\n",
        "muh_id3.extend(bolum_id)\n",
        "print(muh_id3)"
      ],
      "metadata": {
        "colab": {
          "base_uri": "https://localhost:8080/"
        },
        "id": "Se93Q6CmrOvO",
        "outputId": "cd20650b-36b7-49ed-8a54-e632eb880880"
      },
      "execution_count": 7,
      "outputs": [
        {
          "output_type": "stream",
          "name": "stdout",
          "text": [
            "['bil_müh', 'elek_müh', 'endüstri müh', 'makine müh', 'inşaat müh']\n",
            "[0, 1, 2, 3, 4]\n",
            "['bil_müh', 'elek_müh', 'endüstri müh', 'makine müh', 'inşaat müh', 0, 1, 2, 3, 4]\n",
            "['bil_müh', 'elek_müh', 'endüstri müh', 'makine müh', 'inşaat müh', 0, 1, 2, 3, 4]\n",
            "['bil_müh', 'elek_müh', 'endüstri müh', 'makine müh', 'inşaat müh', 0, 1, 2, 3, 4]\n"
          ]
        }
      ]
    },
    {
      "cell_type": "markdown",
      "source": [
        "## List Methods\n",
        "\n",
        "### append()\tAdds an element at the end of the list\n",
        "### clear()\tRemoves all the elements from the list\n",
        "### copy()\tReturns a copy of the list\n",
        "### count()\tReturns the number of elements with the specified value\n",
        "### extend()\tAdd the elements of a list (or any iterable), to the end of the current list\n",
        "### index()\tReturns the index of the first element with the specified value\n",
        "### insert()\tAdds an element at the specified position\n",
        "### pop()\tRemoves the element at the specified position\n",
        "### remove()\tRemoves the item with the specified value\n",
        "### reverse()\tReverses the order of the list\n",
        "### sort()\tSorts the list\n"
      ],
      "metadata": {
        "id": "wvyXhI8VrRuf"
      }
    },
    {
      "cell_type": "code",
      "source": [],
      "metadata": {
        "id": "YvK03IFyrSAI"
      },
      "execution_count": null,
      "outputs": []
    },
    {
      "cell_type": "markdown",
      "source": [
        "# Tuple\n",
        "\n",
        "## Tuple Slicing\n",
        "\n",
        "## Update Tuple\n",
        "\n",
        "## Unpack Tuples\n",
        "\n",
        "## Join Tuples\n",
        "\n",
        "## Tuple Methods"
      ],
      "metadata": {
        "id": "t_ZzEPoleRUM"
      }
    },
    {
      "cell_type": "code",
      "source": [
        "#ordered\n",
        "#unchangeable\n",
        "#allow duplicates\n",
        "\n",
        "thistuple = (\"apple\", \"banana\", \"cherry\", \"apple\", \"cherry\")\n",
        "print(thistuple)"
      ],
      "metadata": {
        "id": "BWAQdnVkeRcW"
      },
      "execution_count": null,
      "outputs": []
    },
    {
      "cell_type": "markdown",
      "source": [
        "## Tuple Slicing"
      ],
      "metadata": {
        "id": "HuQnRLy25l1g"
      }
    },
    {
      "cell_type": "code",
      "source": [
        "thistuple = (\"apple\", \"banana\", \"cherry\", \"orange\", \"kiwi\", \"melon\", \"mango\")\n",
        "print(thistuple[-1])\n",
        "print(thistuple[2:5])\n",
        "print(thistuple[3:])\n",
        "print(thistuple[:4])"
      ],
      "metadata": {
        "id": "zkRG3AN95l-Q"
      },
      "execution_count": null,
      "outputs": []
    },
    {
      "cell_type": "markdown",
      "source": [
        "## Update Tuple"
      ],
      "metadata": {
        "id": "6ZiSEDxN5mG4"
      }
    },
    {
      "cell_type": "code",
      "source": [
        "x = (\"apple\", \"banana\", \"cherry\")\n",
        "y = list(x)\n",
        "y[1] = \"kiwi\"\n",
        "x = tuple(y)\n",
        "\n",
        "print(x)\n",
        "#******************************************\n",
        "thistuple = (\"apple\", \"banana\", \"cherry\")\n",
        "y = list(thistuple)\n",
        "y.append(\"orange\")\n",
        "thistuple = tuple(y)\n",
        "#******************************************\n",
        "thistuple = (\"apple\", \"banana\", \"cherry\")\n",
        "y = (\"orange\",)\n",
        "thistuple += y\n",
        "\n",
        "print(thistuple)\n",
        "#******************************************\n",
        "thistuple = (\"apple\", \"banana\", \"cherry\")\n",
        "y = list(thistuple)\n",
        "y.remove(\"apple\")\n",
        "thistuple = tuple(y)\n",
        "#******************************************\n",
        "thistuple = (\"apple\", \"banana\", \"cherry\")\n",
        "del thistuple\n",
        "print(thistuple) #this will raise an error because the tuple no longer exists\n"
      ],
      "metadata": {
        "id": "D1HBGhg15mNx"
      },
      "execution_count": null,
      "outputs": []
    },
    {
      "cell_type": "markdown",
      "source": [
        "## Unpack Tuples"
      ],
      "metadata": {
        "id": "QoTXAYJl5mtX"
      }
    },
    {
      "cell_type": "code",
      "source": [
        "fruits = (\"apple\", \"banana\", \"cherry\")\n",
        "\n",
        "(green, yellow, red) = fruits\n",
        "\n",
        "print(green)\n",
        "print(yellow)\n",
        "print(red)\n",
        "\n",
        "#***********************************\n",
        "fruits = (\"apple\", \"banana\", \"cherry\", \"strawberry\", \"raspberry\")\n",
        "\n",
        "(green, yellow, *red) = fruits\n",
        "\n",
        "print(green)\n",
        "print(yellow)\n",
        "print(red)\n",
        "\n",
        "#***********************************\n",
        "\n",
        "fruits = (\"apple\", \"mango\", \"papaya\", \"pineapple\", \"cherry\")\n",
        "\n",
        "(green, *tropic, red) = fruits\n",
        "\n",
        "print(green)\n",
        "print(tropic)\n",
        "print(red)"
      ],
      "metadata": {
        "id": "uFPoFMya5myy"
      },
      "execution_count": null,
      "outputs": []
    },
    {
      "cell_type": "markdown",
      "source": [
        "## Join Tuples"
      ],
      "metadata": {
        "id": "j493Ahtd5m8o"
      }
    },
    {
      "cell_type": "code",
      "source": [
        "tuple1 = (\"a\", \"b\" , \"c\")\n",
        "tuple2 = (1, 2, 3)\n",
        "\n",
        "tuple3 = tuple1 + tuple2\n",
        "print(tuple3)\n",
        "\n",
        "#*******************************\n",
        "\n",
        "fruits = (\"apple\", \"banana\", \"cherry\")\n",
        "mytuple = fruits * 2\n",
        "\n",
        "print(mytuple)\n",
        "\n"
      ],
      "metadata": {
        "id": "c9iL_E095nCs"
      },
      "execution_count": null,
      "outputs": []
    },
    {
      "cell_type": "markdown",
      "source": [
        "## Tuple Methods\n",
        "\n",
        "### count()\tReturns the number of times a specified value occurs in a tuple\n",
        "### index()\tSearches the tuple for a specified value and returns the position of where it was found"
      ],
      "metadata": {
        "id": "HL_24bZf5nO5"
      }
    },
    {
      "cell_type": "code",
      "source": [],
      "metadata": {
        "id": "QVvki9ix5nUA"
      },
      "execution_count": null,
      "outputs": []
    },
    {
      "cell_type": "markdown",
      "source": [
        "# Sets\n",
        "\n",
        "## Access Items\n",
        "\n",
        "## Add Items\n",
        "\n",
        "## Remove Items\n",
        "\n",
        "## Join Sets\n",
        "\n",
        "## Set Methods"
      ],
      "metadata": {
        "id": "OhKIObfzeR1l"
      }
    },
    {
      "cell_type": "code",
      "source": [
        "#unordered\n",
        "#unchangeable\n",
        "#do not allow duplicates\n",
        "\n",
        "thisset = {\"apple\", \"banana\", \"cherry\", \"apple\"}\n",
        "\n",
        "print(thisset)"
      ],
      "metadata": {
        "id": "YWL17qj0eRoU"
      },
      "execution_count": null,
      "outputs": []
    },
    {
      "cell_type": "markdown",
      "source": [
        "## Access Items\n"
      ],
      "metadata": {
        "id": "9-vQ7gJa6RE5"
      }
    },
    {
      "cell_type": "code",
      "source": [
        "thisset = {\"apple\", \"banana\", \"cherry\"}\n",
        "\n",
        "for x in thisset:\n",
        "  print(x)"
      ],
      "metadata": {
        "colab": {
          "base_uri": "https://localhost:8080/"
        },
        "id": "Qz6UKxOd6RML",
        "outputId": "dfa63d23-0be1-49f2-b59b-df90d241d835"
      },
      "execution_count": 8,
      "outputs": [
        {
          "output_type": "stream",
          "name": "stdout",
          "text": [
            "apple\n",
            "banana\n",
            "cherry\n"
          ]
        }
      ]
    },
    {
      "cell_type": "markdown",
      "source": [
        "## Add Items\n"
      ],
      "metadata": {
        "id": "zfr_JvUA6Rff"
      }
    },
    {
      "cell_type": "code",
      "source": [
        "thisset = {\"apple\", \"banana\", \"cherry\"}\n",
        "\n",
        "thisset.add(\"orange\")\n",
        "\n",
        "print(thisset)\n",
        "\n",
        "#****************************\n",
        "\n",
        "thisset = {\"apple\", \"banana\", \"cherry\"}\n",
        "tropical = {\"pineapple\", \"mango\", \"papaya\"}\n",
        "\n",
        "thisset.update(tropical)\n",
        "\n",
        "print(thisset)\n",
        "\n",
        "#***************************\n",
        "thisset = {\"apple\", \"banana\", \"cherry\"}\n",
        "mylist = [\"kiwi\", \"orange\"]\n",
        "\n",
        "thisset.update(mylist)\n",
        "\n",
        "print(thisset)\n"
      ],
      "metadata": {
        "colab": {
          "base_uri": "https://localhost:8080/"
        },
        "id": "VB2BVMEU6Rkn",
        "outputId": "427c8f52-1d8a-4e2d-9be3-c2286320b1df"
      },
      "execution_count": 12,
      "outputs": [
        {
          "output_type": "stream",
          "name": "stdout",
          "text": [
            "{'orange', 'apple', 'banana', 'cherry'}\n",
            "{'papaya', 'cherry', 'pineapple', 'apple', 'banana', 'mango'}\n",
            "{'apple', 'kiwi', 'cherry', 'orange', 'banana'}\n"
          ]
        }
      ]
    },
    {
      "cell_type": "markdown",
      "source": [
        "## Remove Items\n"
      ],
      "metadata": {
        "id": "4atTEKrV6Rt4"
      }
    },
    {
      "cell_type": "code",
      "source": [
        "thisset = {\"apple\", \"banana\", \"cherry\"}\n",
        "\n",
        "thisset.remove(\"banana\")\n",
        "\n",
        "print(thisset)\n",
        "\n",
        "#******************\n",
        "thisset = {\"apple\", \"banana\", \"cherry\"}\n",
        "\n",
        "thisset.discard(\"banana\")\n",
        "\n",
        "print(thisset)\n",
        "\n",
        "#**********************\n",
        "thisset = {\"apple\", \"banana\", \"cherry\"}\n",
        "\n",
        "x = thisset.pop()\n",
        "\n",
        "print(x)\n",
        "\n",
        "print(thisset)\n",
        "#***********************\n",
        "thisset = {\"apple\", \"banana\", \"cherry\"}\n",
        "\n",
        "thisset.clear()\n",
        "\n",
        "print(thisset)\n",
        "#******************************\n",
        "thisset = {\"apple\", \"banana\", \"cherry\"}\n",
        "\n",
        "del thisset\n",
        "\n",
        "print(thisset)\n",
        "\n"
      ],
      "metadata": {
        "id": "wSF-wY-U6Ryz"
      },
      "execution_count": null,
      "outputs": []
    },
    {
      "cell_type": "markdown",
      "source": [
        "## Join Sets\n"
      ],
      "metadata": {
        "id": "P9lszybx6R6o"
      }
    },
    {
      "cell_type": "code",
      "source": [
        "set1 = {\"a\", \"b\" , \"c\"}\n",
        "set2 = {1, 2, 3}\n",
        "\n",
        "set3 = set1.union(set2)\n",
        "print(set3)\n",
        "#***********************\n",
        "\n",
        "set1 = {\"a\", \"b\" , \"c\"}\n",
        "set2 = {1, 2, 3}\n",
        "\n",
        "set1.update(set2)\n",
        "print(set1)\n",
        "\n",
        "#************************\n",
        "x = {\"apple\", \"banana\", \"cherry\"}\n",
        "y = {\"google\", \"microsoft\", \"apple\"}\n",
        "\n",
        "x.intersection_update(y)\n",
        "\n",
        "print(x)\n",
        "\n",
        "#*************************\n",
        "x = {\"apple\", \"banana\", \"cherry\"}\n",
        "y = {\"google\", \"microsoft\", \"apple\"}\n",
        "\n",
        "z = x.intersection(y)\n",
        "\n",
        "print(z)\n",
        "\n",
        "#**************************\n",
        "x = {\"apple\", \"banana\", \"cherry\"}\n",
        "y = {\"google\", \"microsoft\", \"apple\"}\n",
        "\n",
        "x.symmetric_difference_update(y)\n",
        "\n",
        "print(x)\n",
        "\n",
        "#****************************\n",
        "x = {\"apple\", \"banana\", \"cherry\"}\n",
        "y = {\"google\", \"microsoft\", \"apple\"}\n",
        "\n",
        "z = x.symmetric_difference(y)\n",
        "\n",
        "print(z)\n",
        "#****************************\n"
      ],
      "metadata": {
        "id": "Na3FN-j66SKw"
      },
      "execution_count": null,
      "outputs": []
    },
    {
      "cell_type": "markdown",
      "source": [
        "## Set Methods\n",
        "\n",
        "### add()\tAdds an element to the set\n",
        "### clear()\tRemoves all the elements from the set\n",
        "### copy()\tReturns a copy of the set\n",
        "### difference()\tReturns a set containing the difference between two or more sets\n",
        "### difference_update()\tRemoves the items in this set that are also included in another, specified set\n",
        "### discard()\tRemove the specified item\n",
        "### intersection()\tReturns a set, that is the intersection of two other sets\n",
        "### intersection_update()\tRemoves the items in this set that are not present in other, specified set(s)\n",
        "### isdisjoint()\tReturns whether two sets have a intersection or not\n",
        "### issubset()\tReturns whether another set contains this set or not\n",
        "### issuperset()\tReturns whether this set contains another set or not\n",
        "### pop()\tRemoves an element from the set\n",
        "### remove()\tRemoves the specified element\n",
        "###symmetric_difference()\tReturns a set with the symmetric differences of two sets\n",
        "### symmetric_difference_update()\tinserts the symmetric differences from this set and another\n",
        "### union()\tReturn a set containing the union of sets\n",
        "### update()\tUpdate the set with the union of this set and others"
      ],
      "metadata": {
        "id": "2ApYt_086STZ"
      }
    },
    {
      "cell_type": "code",
      "source": [],
      "metadata": {
        "id": "kuWwJX8T6SZx"
      },
      "execution_count": null,
      "outputs": []
    },
    {
      "cell_type": "markdown",
      "source": [
        "# Dictionaries\n",
        "\n",
        "## Access Items\n",
        "\n",
        "## Change Items\n",
        "\n",
        "## Add Items\n",
        "\n",
        "## Remove Items\n",
        "\n",
        "## Copy Dictionaries\n",
        "\n",
        "## Nested Dictionaries\n",
        "\n",
        "## Dictionary Methods"
      ],
      "metadata": {
        "id": "ZqhZed_JeRim"
      }
    },
    {
      "cell_type": "code",
      "source": [
        "#ordered\n",
        "#changeable\n",
        "#do not allow duplicates\n",
        "\n",
        "thisdict = {\n",
        "  \"brand\": \"Ford\",\n",
        "  \"electric\": False,\n",
        "  \"year\": 1964,\n",
        "  \"colors\": [\"red\", \"white\", \"blue\"]\n",
        "}"
      ],
      "metadata": {
        "id": "kx4gi2_yeR5l"
      },
      "execution_count": null,
      "outputs": []
    },
    {
      "cell_type": "markdown",
      "source": [
        "## Access Items\n"
      ],
      "metadata": {
        "id": "JLC7kpJB6cKs"
      }
    },
    {
      "cell_type": "code",
      "source": [
        "thisdict = {\n",
        "  \"brand\": \"Ford\",\n",
        "  \"model\": \"Mustang\",\n",
        "  \"year\": 1964\n",
        "}\n",
        "x = thisdict[\"model\"]\n",
        "\n",
        "\n",
        "#************************\n",
        "\n",
        "x = thisdict.get(\"model\")\n",
        "print(x)\n",
        "#*************************\n",
        "\n",
        "x = thisdict.keys()\n",
        "print(x)\n",
        "\n",
        "#***************************\n",
        "\n",
        "car = {\n",
        "\"brand\": \"Ford\",\n",
        "\"model\": \"Mustang\",\n",
        "\"year\": 1964\n",
        "}\n",
        "\n",
        "x = car.keys()\n",
        "\n",
        "print(x) #before the change\n",
        "\n",
        "car[\"color\"] = \"white\"\n",
        "\n",
        "print(x) #after the change\n",
        "\n",
        "#***************************\n",
        "car = {\n",
        "\"brand\": \"Ford\",\n",
        "\"model\": \"Mustang\",\n",
        "\"year\": 1964\n",
        "}\n",
        "\n",
        "x = car.values()\n",
        "\n",
        "print(x) #before the change\n",
        "\n",
        "car[\"year\"] = 2020\n",
        "\n",
        "print(x) #after the change\n",
        "\n",
        "#*****************************\n",
        "car = {\n",
        "\"brand\": \"Ford\",\n",
        "\"model\": \"Mustang\",\n",
        "\"year\": 1964\n",
        "}\n",
        "\n",
        "x = car.items()\n",
        "\n",
        "print(x) #before the change\n",
        "\n",
        "car[\"color\"] = \"red\"\n",
        "\n",
        "print(x) #after the change\n"
      ],
      "metadata": {
        "id": "uL69irTs6cR9"
      },
      "execution_count": null,
      "outputs": []
    },
    {
      "cell_type": "markdown",
      "source": [
        "## Change Items\n"
      ],
      "metadata": {
        "id": "WD1DZl576cgK"
      }
    },
    {
      "cell_type": "code",
      "source": [
        "thisdict = {\n",
        "  \"brand\": \"Ford\",\n",
        "  \"model\": \"Mustang\",\n",
        "  \"year\": 1964\n",
        "}\n",
        "thisdict[\"year\"] = 2018\n",
        "\n",
        "#*******************\n",
        "thisdict = {\n",
        "  \"brand\": \"Ford\",\n",
        "  \"model\": \"Mustang\",\n",
        "  \"year\": 1964\n",
        "}\n",
        "thisdict.update({\"year\": 2020})"
      ],
      "metadata": {
        "id": "N0GXyHzg6c5y"
      },
      "execution_count": null,
      "outputs": []
    },
    {
      "cell_type": "markdown",
      "source": [
        "## Add Items\n"
      ],
      "metadata": {
        "id": "eGkNFyxR6daf"
      }
    },
    {
      "cell_type": "code",
      "source": [
        "thisdict = {\n",
        "  \"brand\": \"Ford\",\n",
        "  \"model\": \"Mustang\",\n",
        "  \"year\": 1964\n",
        "}\n",
        "thisdict[\"color\"] = \"red\"\n",
        "print(thisdict)\n",
        "\n",
        "#*********************\n",
        "\n",
        "thisdict = {\n",
        "  \"brand\": \"Ford\",\n",
        "  \"model\": \"Mustang\",\n",
        "  \"year\": 1964\n",
        "}\n",
        "thisdict.update({\"color\": \"red\"})"
      ],
      "metadata": {
        "id": "6cxE6db06dgp"
      },
      "execution_count": null,
      "outputs": []
    },
    {
      "cell_type": "markdown",
      "source": [
        "## Remove Items\n"
      ],
      "metadata": {
        "id": "R_XX7Q3k6dvA"
      }
    },
    {
      "cell_type": "code",
      "source": [
        "thisdict = {\n",
        "  \"brand\": \"Ford\",\n",
        "  \"model\": \"Mustang\",\n",
        "  \"year\": 1964\n",
        "}\n",
        "thisdict.pop(\"model\")\n",
        "print(thisdict)\n",
        "\n",
        "#********************\n",
        "\n",
        "thisdict = {\n",
        "  \"brand\": \"Ford\",\n",
        "  \"model\": \"Mustang\",\n",
        "  \"year\": 1964\n",
        "}\n",
        "thisdict.popitem()\n",
        "print(thisdict)\n",
        "\n",
        "#*********************\n",
        "\n",
        "thisdict = {\n",
        "  \"brand\": \"Ford\",\n",
        "  \"model\": \"Mustang\",\n",
        "  \"year\": 1964\n",
        "}\n",
        "del thisdict[\"model\"]\n",
        "print(thisdict)\n",
        "\n",
        "#*************************\n",
        "thisdict = {\n",
        "  \"brand\": \"Ford\",\n",
        "  \"model\": \"Mustang\",\n",
        "  \"year\": 1964\n",
        "}\n",
        "del thisdict\n",
        "print(thisdict) #this will cause an error because \"thisdict\" no longer exists.\n",
        "\n",
        "#************************\n",
        "thisdict = {\n",
        "  \"brand\": \"Ford\",\n",
        "  \"model\": \"Mustang\",\n",
        "  \"year\": 1964\n",
        "}\n",
        "thisdict.clear()\n",
        "print(thisdict)\n",
        "\n",
        "#******************************\n"
      ],
      "metadata": {
        "id": "Q6t_tPfM6dz8"
      },
      "execution_count": null,
      "outputs": []
    },
    {
      "cell_type": "markdown",
      "source": [
        "## Copy Dictionaries\n"
      ],
      "metadata": {
        "id": "ejtykxDw6d-4"
      }
    },
    {
      "cell_type": "code",
      "source": [
        "thisdict = {\n",
        "  \"brand\": \"Ford\",\n",
        "  \"model\": \"Mustang\",\n",
        "  \"year\": 1964\n",
        "}\n",
        "mydict = thisdict.copy()\n",
        "print(mydict)\n",
        "\n",
        "#************************\n",
        "\n",
        "thisdict = {\n",
        "  \"brand\": \"Ford\",\n",
        "  \"model\": \"Mustang\",\n",
        "  \"year\": 1964\n",
        "}\n",
        "mydict = dict(thisdict)\n",
        "print(mydict)"
      ],
      "metadata": {
        "id": "E0K8TuVb6eE_"
      },
      "execution_count": null,
      "outputs": []
    },
    {
      "cell_type": "markdown",
      "source": [
        "## Nested Dictionaries\n"
      ],
      "metadata": {
        "id": "pHbACP386eOY"
      }
    },
    {
      "cell_type": "code",
      "source": [
        "myfamily = {\n",
        "  \"child1\" : {\n",
        "    \"name\" : \"Emil\",\n",
        "    \"year\" : 2004\n",
        "  },\n",
        "  \"child2\" : {\n",
        "    \"name\" : \"Tobias\",\n",
        "    \"year\" : 2007\n",
        "  },\n",
        "  \"child3\" : {\n",
        "    \"name\" : \"Linus\",\n",
        "    \"year\" : 2011\n",
        "  }\n",
        "}\n",
        "\n",
        "#*********************************\n",
        "\n",
        "child1 = {\n",
        "  \"name\" : \"Emil\",\n",
        "  \"year\" : 2004\n",
        "}\n",
        "child2 = {\n",
        "  \"name\" : \"Tobias\",\n",
        "  \"year\" : 2007\n",
        "}\n",
        "child3 = {\n",
        "  \"name\" : \"Linus\",\n",
        "  \"year\" : 2011\n",
        "}\n",
        "\n",
        "myfamily = {\n",
        "  \"child1\" : child1,\n",
        "  \"child2\" : child2,\n",
        "  \"child3\" : child3\n",
        "}\n",
        "\n"
      ],
      "metadata": {
        "id": "GruR-4wN6eUc"
      },
      "execution_count": null,
      "outputs": []
    },
    {
      "cell_type": "markdown",
      "source": [
        "## Dictionary Methods\n",
        "\n",
        "### clear()\tRemoves all the elements from the dictionary\n",
        "### copy()\tReturns a copy of the dictionary\n",
        "### fromkeys()\tReturns a dictionary with the specified keys and value\n",
        "### get()\tReturns the value of the specified key\n",
        "### items()\tReturns a list containing a tuple for each key value pair\n",
        "### keys()\tReturns a list containing the dictionary's keys\n",
        "### pop()\tRemoves the element with the specified key\n",
        "### popitem()\tRemoves the last inserted key-value pair\n",
        "### setdefault()\tReturns the value of the specified key. If the key does not exist: insert the key, with the specified value\n",
        "### update()\tUpdates the dictionary with the specified key-value pairs\n",
        "### values()\tReturns a list of all the values in the dictionary"
      ],
      "metadata": {
        "id": "sJWvYaSj6edR"
      }
    },
    {
      "cell_type": "code",
      "source": [],
      "metadata": {
        "id": "QyHZWaeo6eiH"
      },
      "execution_count": null,
      "outputs": []
    }
  ]
}