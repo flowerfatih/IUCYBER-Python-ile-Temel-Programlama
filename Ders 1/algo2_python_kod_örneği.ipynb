{
 "cells": [
  {
   "cell_type": "code",
   "execution_count": 1,
   "id": "9c669aaa",
   "metadata": {},
   "outputs": [
    {
     "name": "stdout",
     "output_type": "stream",
     "text": [
      "hello world!\n"
     ]
    }
   ],
   "source": [
    "print(\"hello world!\")"
   ]
  },
  {
   "cell_type": "code",
   "execution_count": 2,
   "id": "cacca3b6",
   "metadata": {},
   "outputs": [],
   "source": [
    "toplam = 1+2+4+5+7\n",
    "\n",
    "sonuc = toplam / 5"
   ]
  },
  {
   "cell_type": "code",
   "execution_count": 3,
   "id": "8eef854d",
   "metadata": {},
   "outputs": [
    {
     "name": "stdout",
     "output_type": "stream",
     "text": [
      "3.8\n"
     ]
    }
   ],
   "source": [
    "print(sonuc)"
   ]
  },
  {
   "cell_type": "code",
   "execution_count": 4,
   "id": "59b3d55c",
   "metadata": {},
   "outputs": [
    {
     "name": "stdout",
     "output_type": "stream",
     "text": [
      "4\n",
      "6\n",
      "7\n",
      "8\n",
      "9\n"
     ]
    }
   ],
   "source": [
    "sayi1 = int(input())\n",
    "sayi2 = int(input())\n",
    "sayi3 = int(input())\n",
    "sayi4 = int(input())\n",
    "sayi5 = int(input())"
   ]
  },
  {
   "cell_type": "code",
   "execution_count": 5,
   "id": "98357a21",
   "metadata": {},
   "outputs": [
    {
     "name": "stdout",
     "output_type": "stream",
     "text": [
      "6.8\n"
     ]
    }
   ],
   "source": [
    "sonuc = (sayi1 + sayi2 + sayi3 + sayi4 + sayi5) / 5\n",
    "print(sonuc)"
   ]
  }
 ],
 "metadata": {
  "kernelspec": {
   "display_name": "Python 3 (ipykernel)",
   "language": "python",
   "name": "python3"
  },
  "language_info": {
   "codemirror_mode": {
    "name": "ipython",
    "version": 3
   },
   "file_extension": ".py",
   "mimetype": "text/x-python",
   "name": "python",
   "nbconvert_exporter": "python",
   "pygments_lexer": "ipython3",
   "version": "3.10.6"
  }
 },
 "nbformat": 4,
 "nbformat_minor": 5
}
