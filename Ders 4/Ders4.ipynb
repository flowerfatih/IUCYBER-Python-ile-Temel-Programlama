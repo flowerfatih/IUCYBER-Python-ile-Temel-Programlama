{
  "nbformat": 4,
  "nbformat_minor": 0,
  "metadata": {
    "colab": {
      "provenance": []
    },
    "kernelspec": {
      "name": "python3",
      "display_name": "Python 3"
    },
    "language_info": {
      "name": "python"
    }
  },
  "cells": [
    {
      "cell_type": "markdown",
      "source": [
        "# Strings"
      ],
      "metadata": {
        "id": "OxaLJLmWMNsE"
      }
    },
    {
      "cell_type": "code",
      "source": [],
      "metadata": {
        "id": "CZw-MpD-MPAl"
      },
      "execution_count": null,
      "outputs": []
    },
    {
      "cell_type": "markdown",
      "source": [
        "# Functions\n"
      ],
      "metadata": {
        "id": "egP7yuaFfbZv"
      }
    },
    {
      "cell_type": "code",
      "execution_count": null,
      "metadata": {
        "id": "xnbWW0CjfaNu"
      },
      "outputs": [],
      "source": []
    },
    {
      "cell_type": "markdown",
      "source": [
        "# Alıştırma"
      ],
      "metadata": {
        "id": "8l87TeUFfpMV"
      }
    },
    {
      "cell_type": "code",
      "source": [],
      "metadata": {
        "id": "txYTukKTfrVt"
      },
      "execution_count": null,
      "outputs": []
    }
  ]
}